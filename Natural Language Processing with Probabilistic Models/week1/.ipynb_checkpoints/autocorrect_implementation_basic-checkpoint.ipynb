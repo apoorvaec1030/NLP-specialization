{
 "cells": [
  {
   "cell_type": "markdown",
   "metadata": {},
   "source": [
    "\"\n",
    "We use autocorrect everyday in our phones, computers, emails etc. Lets look at what goes behind the scenes.\n",
    "Few concepts to note:\n",
    "\n",
    "1. Bayes theorem: P(c|w)=P(w|c)xP(c)/P(w)\n",
    "2. Minimum Edit Distance:\n",
    "    An edit could consist of following options: \n",
    "    insert - 1 edit distance\n",
    "    delete - 1 edit distance\n",
    "    replace - 1 insert + 1 del = 2 edit distance\n",
    "    switch - 1 del + 1 insert = 2 edit distance\n",
    "3. Dynamic Programming method - faster method to perform autocorrect on longer text *we will talk about this later\n",
    "\n",
    "Data processing:\n",
    "1. load string of data\n",
    "2. Convert the string of text into words\n",
    "3. calculate word freqs and then word prob\n",
    "\n",
    "String Manipulation options:\n",
    "1. insert 1 character\n",
    "2. delete 1 character\n",
    "3. replace 1 character\n",
    "4. switch 1 character\n",
    "\n",
    "Combining the edits:\n",
    "1. edit one letter\n",
    "2. edit two letter\n",
    "3. spelling suggestions\n",
    "\n",
    "Minimum Edit Distance:\n",
    "1. Dynamic programming\n",
    "\n",
    "\""
   ]
  },
  {
   "cell_type": "code",
   "execution_count": null,
   "metadata": {},
   "outputs": [],
   "source": [
    "import re\n",
    "from collections import Counter\n",
    "import numpy as np\n",
    "import pandas as pd"
   ]
  },
  {
   "cell_type": "markdown",
   "metadata": {},
   "source": [
    "### Data Processing"
   ]
  },
  {
   "cell_type": "code",
   "execution_count": null,
   "metadata": {},
   "outputs": [],
   "source": [
    "#load txt file and process data to separate words\n",
    "def load_process_data(file):\n",
    "    with open(file) as f:\n",
    "        data = f.read() #reads entire txt file in string\n",
    "    \n",
    "    data_lwr = data.lower()\n",
    "    \n",
    "    #separate every word and return a list\n",
    "    words = re.findall('\\w+',data_lwr) #\\w is matching word character and + is for all the preceeding word characters, making an entire word\n",
    "    \n",
    "    return words\n",
    "    "
   ]
  },
  {
   "cell_type": "code",
   "execution_count": null,
   "metadata": {},
   "outputs": [],
   "source": [
    "words_all = load_process_data('stringoftext.txt')\n",
    "vocab = set(words_all) #this is our vocabulary "
   ]
  },
  {
   "cell_type": "code",
   "execution_count": null,
   "metadata": {},
   "outputs": [],
   "source": [
    "def get_freq(words_all):\n",
    "    word_freq = {}\n",
    "    word_freq = Counter(words_all)\n",
    "    return word_freq\n",
    "\n",
    "def get_prob(word_freq):\n",
    "    prob = {}\n",
    "    prob = {k:v/sum(word_freq.values()) for k,v in word_freq.items()}\n",
    "    return prob"
   ]
  },
  {
   "cell_type": "code",
   "execution_count": null,
   "metadata": {},
   "outputs": [],
   "source": [
    "word_freq = get_freq(words_all)\n",
    "print(word_freq)\n",
    "\n",
    "prob = get_prob(word_freq)\n",
    "print(prob)"
   ]
  },
  {
   "cell_type": "markdown",
   "metadata": {},
   "source": [
    "### String Manipulation Options"
   ]
  },
  {
   "cell_type": "code",
   "execution_count": null,
   "metadata": {},
   "outputs": [],
   "source": [
    "def delete_char(word):\n",
    "    '''1. Split word 1 letter at a time; \n",
    "       2. Delete the last char of left split'''\n",
    "\n",
    "    split_l = [(word[:i],word[i:]) for i in range(len(word))]\n",
    "    delete_l = [L[:-1]+R for L,R in split_l[1:]]\n",
    "    return delete_l\n",
    "\n",
    "def insert_char(word):\n",
    "    '''1. Split word 1 letter at a time; \n",
    "       2. Insert between L&R split'''\n",
    "    letter = 'abcdefghijklmnopqrstuvwxyz'\n",
    "    \n",
    "    split_l = [(word[:i],word[i:]) for i in range(len(word))]\n",
    "    insert_l = [L+i+R for L,R in split_l for i in letter]\n",
    "    return insert_l\n",
    "    \n",
    "def replace_char(word):\n",
    "    '''1. Split word 1 letter at a time; \n",
    "       2. Skip the first char of right split and\n",
    "       3. Insert between L&R split'''\n",
    "    \n",
    "    letter = 'abcdefghijklmnopqrstuvwxyz'\n",
    "    \n",
    "    split_l = [(word[:i],word[i:]) for i in range(len(word))]\n",
    "    replace_l = [L+i+R[1:] for L,R in split_l for i in letter]\n",
    "    \n",
    "    return replace_l\n",
    "\n",
    "def switch_char(word):\n",
    "    '''1. Split word 1 letter at a time; \n",
    "       2. swap the first two chars of R, given len(word)>=2'''\n",
    "    \n",
    "    split_l = [(word[:i],word[i:]) for i in range(len(word))]\n",
    "    switch_l = [L+R[1]+R[0]+R[2:] for L,R in split_l if len(R)>=2]\n",
    "    \n",
    "    return switch_l"
   ]
  },
  {
   "cell_type": "markdown",
   "metadata": {},
   "source": [
    "### One Letter Edit"
   ]
  },
  {
   "cell_type": "code",
   "execution_count": null,
   "metadata": {},
   "outputs": [],
   "source": [
    "def one_edit(word, switch_plug = True):\n",
    "    '''\n",
    "    1. run all the string manipulations\n",
    "    2. combine all the unique outputs that are one edit away\n",
    "    3. switch is optional, not that common\n",
    "    '''\n",
    "    \n",
    "    delete = delete_char(word)\n",
    "    insert = insert_char(word)\n",
    "    replace = replace_char(word)\n",
    "\n",
    "    \n",
    "    switch = []\n",
    "    if switch_plug:\n",
    "        switch = switch_char(word)\n",
    "    \n",
    "    one_edit_char = delete+insert+replace+switch\n",
    "    \n",
    "    return set(one_edit_char)"
   ]
  },
  {
   "cell_type": "code",
   "execution_count": null,
   "metadata": {},
   "outputs": [],
   "source": [
    "one_edit('kama')"
   ]
  },
  {
   "cell_type": "code",
   "execution_count": null,
   "metadata": {},
   "outputs": [],
   "source": [
    "def two_edit(word, switch_plug = True):\n",
    "    '''\n",
    "    1. run one_edit \n",
    "    2. run it again on the previous output\n",
    "    '''\n",
    "    \n",
    "    one_edit_words = one_edit(word, switch_plug=False)\n",
    "\n",
    "    two_edit_words=set()\n",
    "    for letter in one_edit_words:\n",
    "        if letter:\n",
    "            two_edit = one_edit(letter, switch_plug=False) \n",
    "            two_edit_words.update(two_edit)\n",
    "\n",
    "    return two_edit_words"
   ]
  },
  {
   "cell_type": "code",
   "execution_count": null,
   "metadata": {},
   "outputs": [],
   "source": [
    "two_edit('ameican')"
   ]
  },
  {
   "cell_type": "code",
   "execution_count": null,
   "metadata": {},
   "outputs": [],
   "source": [
    "def get_corrections(word, vocab,prob, n=2):\n",
    "    \n",
    "    '''\n",
    "    1. use short circuit to get all possible suggestions from a)vocab, b)1 edit, c)2 edit, d) word\n",
    "    2. create word freq from vocab using get_freq funct and get_prob\n",
    "    3. get top n words with probs\n",
    "    \n",
    "    input:\n",
    "    word: the Possibly incorrect word\n",
    "    vocab: vocab dict\n",
    "    prob: word prob\n",
    "    n: top n suggestions to consider\n",
    "    \n",
    "    output:\n",
    "    dict of top n suggested word with their probs\n",
    "    '''\n",
    "    \n",
    "    suggestions = []\n",
    "    n_best = {}\n",
    "    \n",
    "    suggestions = list(one_edit(word).intersection(vocab) or two_edit(word).intersection(vocab) or (word in vocab and word) or word)\n",
    "    print(suggestions) ##PROBLEM TO FIX WITH SINGLE WORD OUTPUT\n",
    "    \n",
    "    sugg_prob = {i:prob[i] for i in suggestions}\n",
    "\n",
    "    #sort dict and pick top n\n",
    "    sorted_prob = sorted(sugg_prob.items(), key=lambda x: x[1], reverse=True)[:n]\n",
    "    \n",
    "    \n",
    "    return sorted_prob"
   ]
  },
  {
   "cell_type": "code",
   "execution_count": null,
   "metadata": {},
   "outputs": [],
   "source": [
    "get_corrections('kiama',vocab,prob, n=2)"
   ]
  },
  {
   "cell_type": "markdown",
   "metadata": {},
   "source": [
    "### Minimum Edit Distance using Dynamic Programming "
   ]
  },
  {
   "cell_type": "markdown",
   "metadata": {},
   "source": [
    "1. Given a String Source[0,i] and a String Target[0,j], we will compute all possible combinations of substrings [i,j] and their Minimum Edit Distance.\n",
    "2. We will maintain the previously computed substrings and use them to calculate the larger substrings\n",
    "3. We need to maintain a matrix D. \n",
    "4. Rows = characters of Source string + (1 extra blank), Col = characters of Target string + (extra blank)\n",
    "5. We begin with \"Initialization\"\n",
    "    a) D[0,0] = 0\n",
    "    b) Compute edit distances for all elements of 1st row and 1st col\n",
    "        D[i,0] = D[i-1,0] + del_cost(source[i])\n",
    "        D[0,j] = D[0,j-1] + ins_cost(source[j])\n",
    "6. Now compute D[i,j]\n",
    "        min{ D[i-1,j] + del_cost(source[i])\n",
    "             D[i,j-1] + ins_cost(target[j])\n",
    "             D[i-1,j-1] + {rep_cost, i != j\n",
    "                           0, i = j}\n",
    "                                   }\n",
    "    "
   ]
  },
  {
   "cell_type": "code",
   "execution_count": 118,
   "metadata": {},
   "outputs": [],
   "source": [
    "# minimum amount of edits required given a source and a target string\n",
    "\n",
    "def minimum_edit_distance(source, target, del_cost=1, ins_cost=1,rep_cost=2):\n",
    "    \n",
    "    \"\"\"\n",
    "    1. Initialize: \n",
    "        D of size [i+1,j+1]\n",
    "        [0,0]=0\n",
    "        D[i,0]=D[i-1,0]+del_cost\n",
    "        D[0,j]=D[0,j-1]+ins_cost\n",
    "    \n",
    "    2. Loop through i,j:\n",
    "     min{ D[i-1,j] + del_cost(source[i])\n",
    "          D[i,j-1] + ins_cost(target[j])\n",
    "          D[i-1,j-1] + {rep_cost, i != j\n",
    "                    0, i = j}\n",
    "                            }\n",
    "    \n",
    "    3. mini edit distance will be the last cell [i,j] of matrix, i=j\n",
    "    \n",
    "    4. Make the matrix more readable, by converting to df and adding indexes\n",
    "    \n",
    "    Input: \n",
    "    Source string\n",
    "    Target string\n",
    "    Delete_cost, insert_cost, replace_cost\n",
    "    \n",
    "    Output:\n",
    "    Dataframe D, Minimum edit distance\n",
    "    \"\"\"\n",
    "    #create matrix\n",
    "    \n",
    "    i_len = len(source)\n",
    "    j_len = len(target)\n",
    "    \n",
    "    idx = ['#']+list(source)\n",
    "    jdx = ['#']+list(target)\n",
    "    \n",
    "    D = np.zeros((i_len+1,j_len+1),int)\n",
    "    \n",
    "    #initialize the matrix\n",
    "    D[0,0] = 0\n",
    "    \n",
    "    for i in range(1,i_len+1):\n",
    "        D[i,0] = D[i-1,0]+del_cost\n",
    "\n",
    "    for j in range(1,j_len+1):\n",
    "        D[0,j] = D[0,j-1]+ins_cost\n",
    "        \n",
    "    #fill each cell [i,j]\n",
    "    for i in range(1,i_len+1):\n",
    "        for j in range(1,j_len+1):\n",
    "            \n",
    "            #initialize rep_cost\n",
    "            rep=rep_cost\n",
    "            \n",
    "            if source[i-1]==target[j-1]:\n",
    "                rep=0\n",
    "            \n",
    "            D[i,j] = min(D[i-1,j]+del_cost, D[i,j-1]+ins_cost, D[i-1,j-1]+rep)\n",
    "                \n",
    "                \n",
    "    med = D[i_len,j_len]\n",
    "    \n",
    "    D = pd.DataFrame(D, index=idx, columns=jdx)\n",
    "    print(f'minimum edit distance is {med}')\n",
    "    return D, med"
   ]
  },
  {
   "cell_type": "code",
   "execution_count": 119,
   "metadata": {},
   "outputs": [
    {
     "name": "stdout",
     "output_type": "stream",
     "text": [
      "minimum edit distance is 6\n"
     ]
    },
    {
     "data": {
      "text/plain": [
       "(   #  t  a  r  g  e  t\n",
       " #  0  1  2  3  4  5  6\n",
       " w  1  2  3  4  5  6  7\n",
       " a  2  3  2  3  4  5  6\n",
       " n  3  4  3  4  5  6  7\n",
       " t  4  3  4  5  6  7  6, 6)"
      ]
     },
     "execution_count": 119,
     "metadata": {},
     "output_type": "execute_result"
    }
   ],
   "source": [
    "minimum_edit_distance('want','target')"
   ]
  },
  {
   "cell_type": "code",
   "execution_count": null,
   "metadata": {},
   "outputs": [],
   "source": []
  }
 ],
 "metadata": {
  "kernelspec": {
   "display_name": "Python 3",
   "language": "python",
   "name": "python3"
  },
  "language_info": {
   "codemirror_mode": {
    "name": "ipython",
    "version": 3
   },
   "file_extension": ".py",
   "mimetype": "text/x-python",
   "name": "python",
   "nbconvert_exporter": "python",
   "pygments_lexer": "ipython3",
   "version": "3.7.4"
  }
 },
 "nbformat": 4,
 "nbformat_minor": 2
}
