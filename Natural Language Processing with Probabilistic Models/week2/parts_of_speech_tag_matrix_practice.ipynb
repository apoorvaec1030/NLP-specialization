{
 "cells": [
  {
   "cell_type": "code",
   "execution_count": null,
   "metadata": {},
   "outputs": [],
   "source": [
    "import numpy as np\n",
    "import pandas as pd"
   ]
  },
  {
   "cell_type": "code",
   "execution_count": null,
   "metadata": {},
   "outputs": [],
   "source": [
    "# Define tags for Adverb, Noun and To (the preposition) , respectively\n",
    "tags = ['RB', 'NN', 'TO']"
   ]
  },
  {
   "cell_type": "code",
   "execution_count": null,
   "metadata": {},
   "outputs": [],
   "source": [
    "# Define 'transition_counts' dictionary\n",
    "# Note: values are the same as the ones in the assignment\n",
    "transition_counts = {\n",
    "    ('NN', 'NN'): 16241,\n",
    "    ('RB', 'RB'): 2263,\n",
    "    ('TO', 'TO'): 2,\n",
    "    ('NN', 'TO'): 5256,\n",
    "    ('RB', 'TO'): 855,\n",
    "    ('TO', 'NN'): 734,\n",
    "    ('NN', 'RB'): 2431,\n",
    "    ('RB', 'NN'): 358,\n",
    "    ('TO', 'RB'): 200\n",
    "}"
   ]
  },
  {
   "cell_type": "code",
   "execution_count": null,
   "metadata": {},
   "outputs": [],
   "source": [
    "#create transition_matrix 3x3\n",
    "\n",
    "tag_len = len(tags)\n",
    "transition_matrix = np.zeros((tag_len,tag_len))\n",
    "transition_matrix\n"
   ]
  },
  {
   "cell_type": "code",
   "execution_count": null,
   "metadata": {},
   "outputs": [],
   "source": [
    "#create a sorted combination of tags\n",
    "tags_sorted = sorted(tags)\n",
    "tags_sorted"
   ]
  },
  {
   "cell_type": "code",
   "execution_count": null,
   "metadata": {},
   "outputs": [],
   "source": [
    "for i in range(tag_len):\n",
    "    for j in range(tag_len):\n",
    "        transition_matrix[i,j] = transition_counts.get((tags_sorted[i],tags_sorted[j]))"
   ]
  },
  {
   "cell_type": "code",
   "execution_count": null,
   "metadata": {},
   "outputs": [],
   "source": [
    "pd.DataFrame(transition_matrix,index=tags_sorted,columns=tags_sorted)"
   ]
  },
  {
   "cell_type": "code",
   "execution_count": null,
   "metadata": {},
   "outputs": [],
   "source": [
    "#scale the matrix by factor of 1/10\n",
    "transition_matrix/10"
   ]
  },
  {
   "cell_type": "code",
   "execution_count": null,
   "metadata": {},
   "outputs": [],
   "source": [
    "#calculate rowsum\n",
    "row_sum = transition_matrix.sum(axis=1,keepdims=True)"
   ]
  },
  {
   "cell_type": "code",
   "execution_count": null,
   "metadata": {},
   "outputs": [],
   "source": [
    "#normalize transition_matrix\n",
    "norm_transition_matrix=transition_matrix/row_sum\n",
    "\n",
    "#check all row sums equal to 1\n",
    "norm_transition_matrix.sum(axis=1)"
   ]
  },
  {
   "cell_type": "markdown",
   "metadata": {},
   "source": [
    "######  Modify each value of the diagonal of the matrix so that they are equal to the log of the sum of the current row plus the current value\n",
    "\n",
    "\n"
   ]
  },
  {
   "cell_type": "code",
   "execution_count": 36,
   "metadata": {},
   "outputs": [
    {
     "data": {
      "text/plain": [
       "array([[10.76154917,  0.10159646,  0.21965898],\n",
       "       [ 0.10299194,  8.80467316,  0.24597238],\n",
       "       [ 0.78418803,  0.21367521,  6.84375223]])"
      ]
     },
     "execution_count": 36,
     "metadata": {},
     "output_type": "execute_result"
    }
   ],
   "source": [
    "#using for loop\n",
    "import math\n",
    "\n",
    "norm_transition_matrix_for=np.copy(norm_transition_matrix)\n",
    "norm_transition_matrix_np = np.copy(norm_transition_matrix)\n",
    "\n",
    "for i in range(tag_len):\n",
    "    norm_transition_matrix_for[i,i] = norm_transition_matrix[i,i]+math.log(row_sum[i])\n",
    "    \n",
    "norm_transition_matrix_for"
   ]
  },
  {
   "cell_type": "code",
   "execution_count": 38,
   "metadata": {},
   "outputs": [
    {
     "data": {
      "text/plain": [
       "(3,)"
      ]
     },
     "execution_count": 38,
     "metadata": {},
     "output_type": "execute_result"
    }
   ],
   "source": [
    "#using vectorization\n",
    "\n",
    "#1. keep the diagonal values only\n",
    "diag_np = np.diag(norm_transition_matrix_np)\n",
    "diag_np.shape"
   ]
  },
  {
   "cell_type": "code",
   "execution_count": 41,
   "metadata": {},
   "outputs": [
    {
     "data": {
      "text/plain": [
       "array([[0.67874457],\n",
       "       [0.65103567],\n",
       "       [0.00213675]])"
      ]
     },
     "execution_count": 41,
     "metadata": {},
     "output_type": "execute_result"
    }
   ],
   "source": [
    "#2. reshape to match the rowsum matrix\n",
    "diag_np_re = np.reshape(diag_np,(3,1))\n",
    "diag_np_re"
   ]
  },
  {
   "cell_type": "code",
   "execution_count": 43,
   "metadata": {},
   "outputs": [],
   "source": [
    "#3. apply \"vectorize\" fucntion to apply the function across the elements of row_sum vector\n",
    "\n",
    "d= diag_np_re+np.vectorize(math.log)(row_sum)"
   ]
  },
  {
   "cell_type": "code",
   "execution_count": null,
   "metadata": {},
   "outputs": [],
   "source": [
    "#4. use fill diagonal to update the diagonal of the norm_transtion_matrix\n",
    "\n",
    "np.filldiag()"
   ]
  }
 ],
 "metadata": {
  "kernelspec": {
   "display_name": "Python 3",
   "language": "python",
   "name": "python3"
  },
  "language_info": {
   "codemirror_mode": {
    "name": "ipython",
    "version": 3
   },
   "file_extension": ".py",
   "mimetype": "text/x-python",
   "name": "python",
   "nbconvert_exporter": "python",
   "pygments_lexer": "ipython3",
   "version": "3.7.4"
  }
 },
 "nbformat": 4,
 "nbformat_minor": 2
}
