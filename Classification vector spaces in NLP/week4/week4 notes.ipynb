{
 "cells": [
  {
   "cell_type": "markdown",
   "metadata": {},
   "source": [
    "dot product\n",
    "difference between  np.dot(a,b.T) vs np.dot(b,a.T) \n",
    "in visual sense. How does the reversing impacts the vectors visualy. What does it mean?"
   ]
  },
  {
   "cell_type": "markdown",
   "metadata": {},
   "source": [
    "dot product is projection of vector V on vector P plane. V transpose projects a perpendicular projection on vector P\n",
    "\n",
    "P@V.T"
   ]
  },
  {
   "cell_type": "markdown",
   "metadata": {},
   "source": [
    "## practice hash tables\n",
    "## practice week4 codes shared in the lessons"
   ]
  },
  {
   "cell_type": "code",
   "execution_count": null,
   "metadata": {},
   "outputs": [],
   "source": [
    "#basic hash table\n",
    "def hash_table(all_elements, size_hash):\n",
    "    def hash_function(single_element,size_hash):\n",
    "        return int(single_element)%size_hash\n",
    "    "
   ]
  },
  {
   "cell_type": "code",
   "execution_count": null,
   "metadata": {},
   "outputs": [],
   "source": [
    "# stack the vectors of Y_l into a matrix Y\n",
    "    Y = np.column_stack((Y_l)).T\n",
    "    Y=np.row_stack(Y_l)\n",
    "#why was the transpose needed? because it will make each list in a new column, but we want to stack in row"
   ]
  },
  {
   "cell_type": "code",
   "execution_count": null,
   "metadata": {},
   "outputs": [],
   "source": [
    "# indices of the sorted list \n",
    "np.argsort()"
   ]
  },
  {
   "cell_type": "code",
   "execution_count": null,
   "metadata": {},
   "outputs": [],
   "source": [
    "#Create the sets of planes\n",
    "np.random.seed(0)\n",
    "planes_l = [np.random.normal(size=(N_DIMS, N_PLANES))\n",
    "            for _ in range(N_UNIVERSES)]"
   ]
  },
  {
   "cell_type": "code",
   "execution_count": null,
   "metadata": {},
   "outputs": [],
   "source": [
    "# remove extra un-used dimensions (convert this from a 2D to a 1D array)\n",
    "np.squeeze"
   ]
  },
  {
   "cell_type": "markdown",
   "metadata": {},
   "source": [
    "Choosing the number of planes\n",
    "Each plane divides the space to  2\n",
    "  parts.\n",
    "So  𝑛\n",
    "  planes divide the space into  2𝑛\n",
    "  hash buckets.\n",
    "We want to organize 10,000 document vectors into buckets so that every bucket has about   16\n",
    "  vectors.\n",
    "For that we need  1000016=625\n",
    "  buckets.\n",
    "We're interested in  𝑛\n",
    " , number of planes, so that  2𝑛=625\n",
    " . Now, we can calculate  𝑛=log2625=9.29≈10\n",
    " ."
   ]
  },
  {
   "cell_type": "code",
   "execution_count": null,
   "metadata": {},
   "outputs": [],
   "source": [
    "# The number of planes. We use log2(625) to have ~16 vectors/bucket.\n",
    "N_PLANES = 10\n",
    "# Number of times to repeat the hashing to improve the search.\n",
    "N_UNIVERSES = 25\n",
    "#to save time, we can use fewer than the total number of available universes. By default, it's set to N_UNIVERSES, which is  25\n",
    " # for this assignment."
   ]
  }
 ],
 "metadata": {
  "kernelspec": {
   "display_name": "Python 3",
   "language": "python",
   "name": "python3"
  },
  "language_info": {
   "codemirror_mode": {
    "name": "ipython",
    "version": 3
   },
   "file_extension": ".py",
   "mimetype": "text/x-python",
   "name": "python",
   "nbconvert_exporter": "python",
   "pygments_lexer": "ipython3",
   "version": "3.7.4"
  }
 },
 "nbformat": 4,
 "nbformat_minor": 2
}
